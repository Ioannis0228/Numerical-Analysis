{
 "cells": [
  {
   "cell_type": "markdown",
   "id": "627062f7",
   "metadata": {},
   "source": [
    "# <center> Εργασία Αριθμητικής Ανάλυσης 2023 </center>\n",
    "**Ιωάννης Ορθοδόξου ΑΕΜ:10822**"
   ]
  },
  {
   "cell_type": "markdown",
   "id": "b5a46999",
   "metadata": {},
   "source": [
    "## Παραγοντοποιήσεις LU και QR \n",
    "Παραγοντοποίηση LU όπως έχει δοθεί και ο τυχαίος πίνακας A ως παράδειγμα "
   ]
  },
  {
   "cell_type": "code",
   "execution_count": 1,
   "id": "05413f16",
   "metadata": {
    "scrolled": true
   },
   "outputs": [
    {
     "name": "stdout",
     "output_type": "stream",
     "text": [
      "L :\n",
      " [[ 1.   0.   0. ]\n",
      " [ 3.   1.   0. ]\n",
      " [ 2.  -0.5  1. ]] \n",
      "U :\n",
      " [[ 1.   2.   1. ]\n",
      " [ 0.  -2.  -1. ]\n",
      " [ 0.   0.  -1.5]]\n"
     ]
    }
   ],
   "source": [
    "import numpy as np\n",
    "\n",
    "def LUmine(A):\n",
    "    n = A.shape[0]\n",
    "    L = np.matrix( np.identity(n) )\n",
    "    U = A\n",
    "    for j in range(0,n-1):\n",
    "        for i in range(j+1,n):\n",
    "            mult = A[i,j] / A[j,j]\n",
    "            A[i, j+1:n] = A[i, j+1:n] - mult * A[j,j+1:n]\n",
    "            U[i, j+1:n] = A[i, j+1:n]\n",
    "            L[i,j] = mult\n",
    "            U[i,j] = 0\n",
    "    return L, U\n",
    "\n",
    "A = np.matrix([[1,2,1],[3,4,2],[2,5,1.0]])\n",
    "L, U = LUmine(A.copy())\n",
    "print(\"L :\\n\", L, \"\\nU :\\n\", U)"
   ]
  },
  {
   "cell_type": "markdown",
   "id": "db858095",
   "metadata": {},
   "source": [
    "**Παραγοντοποίηση QR με την μέθοδο Gram-Schmidt με συμπληρωμένα τα κενά** <br>\n",
    "Οι πίνακες Α 3x3 και Β 2x2 είναι τύχαία παραδείγματα για έλεγχο της ορθότητας της συνάρτησης QRmine."
   ]
  },
  {
   "cell_type": "code",
   "execution_count": 2,
   "id": "1db928c4",
   "metadata": {},
   "outputs": [
    {
     "name": "stdout",
     "output_type": "stream",
     "text": [
      "6.904111161903604e-16\n",
      "4.6151104473205536e-15\n"
     ]
    }
   ],
   "source": [
    "import numpy as np\n",
    "\n",
    "def QRmine(A):\n",
    "    n = A.shape[0]\n",
    "    Q = np.matrix( np.zeros( (n,n)))\n",
    "    for j in range(0,n): #εδω\n",
    "        q = A[:,j]\n",
    "        for i in range(0,j):  #εδω\n",
    "            length_of_leg = np.sum( A[:,j].T * Q [:,i])\n",
    "            q = q - Q[:,i]*length_of_leg  #εδω\n",
    "        Q[:,j] = q / np.linalg.norm(q)\n",
    "    R = Q.T * A  #εδω\n",
    "    return Q, R\n",
    "\n",
    "A = np.matrix([[1,1,0],[1,0,1],[0,1,1.0]]) \n",
    "Q, R = QRmine(A)\n",
    "print( np.linalg.norm(A - Q*R) )\n",
    "B = np.matrix([[1,1],[4,3.0]])\n",
    "Q, R = QRmine(B)\n",
    "print( np.linalg.norm(B - Q*R) )\n"
   ]
  },
  {
   "cell_type": "markdown",
   "id": "39f3e20d",
   "metadata": {},
   "source": [
    "Τα αποτελέσμα που βγάζει η συνάρτηση np.linalg.norm(A - Q*R) και np.linalg.norm(Β - Q*R)  αντίστοιχα, δεν είναι ακριβώς 0 αλλά κάποιος αριθμός *10^-15 όπου προσεγγιστικά είναι 0 άρα μπορούμε να θεωρήσουμε πώς η συνάρτηση QRmine λειτουργεί σώστα<br><br>\n",
    "Οι πάρακατω συναρτήσεις solveLUmine και solveQRmine δέχονται ένα τετραγωνικό πίνακα A και ένα διάνυσμα b και επιστρέφουν την λύση του συστήματος Ax=b. Ο υπολογισμός της λύσης γίνεται με χρήση των παραγοντοποιήσεων LU και QR αντίστοιχα. Υπάρχει τυχαίο παράδειγμα για την ορθότητα της λειτουργείας των 2 συναρτήσεων"
   ]
  },
  {
   "cell_type": "code",
   "execution_count": 3,
   "id": "be2e485c",
   "metadata": {},
   "outputs": [
    {
     "name": "stdout",
     "output_type": "stream",
     "text": [
      "Η λύση του συστήματος με χρήση της LU:\n",
      " [[7.]\n",
      " [4.]]\n",
      "Η λύση του συστήματος με χρήση της QR:\n",
      " [[7.]\n",
      " [4.]]\n"
     ]
    }
   ],
   "source": [
    "def solveLUmine(A,b):\n",
    "    L, U = LUmine(A.copy())\n",
    "    n = L.shape[0]\n",
    "    y = np.matrix( np.zeros( (n,1)))\n",
    "    x = np.matrix( np.zeros( (n,1)))\n",
    "    for i in range(0,n):\n",
    "        y[i,0] = b[i,0] / L[i,i]\n",
    "        for j in range(0,n):\n",
    "            b[j,0] -=  L[j,i] * y[i,0]\n",
    "    for i in range(n-1,-1,-1):\n",
    "        x[i,0] = y[i,0] / U[i,i]\n",
    "        for j in range(n-1,-1,-1):\n",
    "            y[j,0] -= U[j,i] * x[i,0]\n",
    "    return x\n",
    "    \n",
    "def solveQRmine(A,b):\n",
    "    Q, R = QRmine(A.copy())\n",
    "    n = Q.shape[0]\n",
    "    y = np.dot(Q.T,b)\n",
    "    x = np.matrix( np.zeros( (n,1)))\n",
    "    for i in range(n-1,-1,-1):\n",
    "        x[i,0] = y[i,0] / R[i,i]\n",
    "        for j in range(n-1,-1,-1):\n",
    "            y[j,0] -= R[j,i] * x[i,0]\n",
    "    return x\n",
    "\n",
    "B = np.matrix([[3,-4],[6,-10.0]])\n",
    "p = np.matrix([[5],[2.0]])\n",
    "print(\"Η λύση του συστήματος με χρήση της LU:\\n\",solveLUmine(B.copy(),p.copy()))\n",
    "print(\"Η λύση του συστήματος με χρήση της QR:\\n\",solveQRmine(B.copy(),p.copy()))\n"
   ]
  },
  {
   "cell_type": "markdown",
   "id": "080b05af",
   "metadata": {},
   "source": [
    "## Πίνακες Hilbert <br>\n",
    "Ερώτημα α) με τιμές για το n 3 και 5"
   ]
  },
  {
   "cell_type": "code",
   "execution_count": 4,
   "id": "154caf00",
   "metadata": {},
   "outputs": [
    {
     "name": "stdout",
     "output_type": "stream",
     "text": [
      "Πίνακας Hilbert για n=3\n",
      " [[1.         0.5        0.33333333]\n",
      " [0.5        0.33333333 0.25      ]\n",
      " [0.33333333 0.25       0.2       ]] \n",
      "\n",
      "Πίνακας Hilbert για n=5\n",
      " [[1.         0.5        0.33333333 0.25       0.2       ]\n",
      " [0.5        0.33333333 0.25       0.2        0.16666667]\n",
      " [0.33333333 0.25       0.2        0.16666667 0.14285714]\n",
      " [0.25       0.2        0.16666667 0.14285714 0.125     ]\n",
      " [0.2        0.16666667 0.14285714 0.125      0.11111111]]\n"
     ]
    }
   ],
   "source": [
    "def Hil(n):\n",
    "    H = np.matrix( np.zeros( (n,n)))\n",
    "    for i in range(0,n):\n",
    "        for j in range(0,n):\n",
    "            H[i,j] = (1/(i+j+1)) \n",
    "    return H\n",
    "\n",
    "print(\"Πίνακας Hilbert για n=3\\n\",Hil(3),\"\\n\\nΠίνακας Hilbert για n=5\\n\",Hil(5))"
   ]
  },
  {
   "cell_type": "markdown",
   "id": "15f0d91b",
   "metadata": {},
   "source": [
    "Ερωτήματα β) και γ) για n=3"
   ]
  },
  {
   "cell_type": "code",
   "execution_count": 5,
   "id": "7a1d6209",
   "metadata": {},
   "outputs": [
    {
     "name": "stdout",
     "output_type": "stream",
     "text": [
      "Η λύση του αρχίκου συστήματος είναι :\n",
      " [[  3.]\n",
      " [-24.]\n",
      " [ 30.]]\n",
      "Η λύση του καινούργιου συστήματος είναι :\n",
      " [[  3.]\n",
      " [-24.]\n",
      " [ 30.]]\n",
      "Η μέγιστη απόλυτη διαφορά είναι : 2.1316282072803006e-14\n"
     ]
    }
   ],
   "source": [
    "def solver(n):\n",
    "    b = np.ones((n,1))\n",
    "    H = Hil(n)\n",
    "    x = solveLUmine(H.copy(),b.copy())\n",
    "    bnew = b\n",
    "    bnew[0][0] = b[0][0] + 10**-15\n",
    "    xnew = solveLUmine(H.copy(),bnew.copy()) \n",
    "    return x, xnew\n",
    "\n",
    "x, xnew = solver(3)\n",
    "print(\"Η λύση του αρχίκου συστήματος είναι :\\n\", x)\n",
    "print(\"Η λύση του καινούργιου συστήματος είναι :\\n\", xnew)\n",
    "print(\"Η μέγιστη απόλυτη διαφορά είναι :\", np.max(np.abs(x - xnew)))"
   ]
  },
  {
   "cell_type": "markdown",
   "id": "ac6bf4c6",
   "metadata": {},
   "source": [
    "Παρατηρούμε ότι οι λύσεις των δύο συστημάτων φαίνοντε ίδιες αλλά η μέγιστη απόλυτη διαφορά είναι κάποιος πολύ μικρός αριθμός όπως αναμέναμε<br><br>\n",
    "Ερώτημα δ) για n από 2 μέχρι 10"
   ]
  },
  {
   "cell_type": "code",
   "execution_count": 6,
   "id": "9ecafde2",
   "metadata": {},
   "outputs": [
    {
     "data": {
      "image/png": "[encoded data removed]",
      "text/plain": [
       "<Figure size 640x480 with 1 Axes>"
      ]
     },
     "metadata": {},
     "output_type": "display_data"
    }
   ],
   "source": [
    "import matplotlib.pyplot as plt\n",
    "\n",
    "d = 11\n",
    "yaxis = np.zeros(d-2)\n",
    "n = np.arange(2,d,1 )\n",
    "for i in range(2,d):\n",
    "    x, xnew = solver(i)\n",
    "    yaxis[i-2] = np.max(np.abs(x - xnew))\n",
    "    \n",
    "plt.semilogy(n, yaxis)\n",
    "plt.xlabel('n')\n",
    "plt.ylabel('μέγιστη απόλυτη διαφορά')\n",
    "plt.show()"
   ]
  },
  {
   "cell_type": "markdown",
   "id": "6653ac10",
   "metadata": {},
   "source": [
    "Το συμπέρασμα που βγάζω για τη λύση του συστήματος Hx = b είναι ότι καθώς αυξάνεται το n, δηλαδή οι διαστάσεις του πίνακα Hilbert, η μέγιστη απόλυτη διαφορά αυξάνεται εκθετικά και άρα αν υπάρχει στο διάνυσμα b ένα στοιχειο που περιέχει κάποια πολύ μικρή τιμή τότε η λύση του συστήματος δεν προσεγγίζει την πραγματική λύση <br><br>\n",
    "Ερώτημα ε) για n από 2 μέχρι 10"
   ]
  },
  {
   "cell_type": "code",
   "execution_count": 7,
   "id": "eec49c2b",
   "metadata": {},
   "outputs": [
    {
     "data": {
      "image/png": "[encoded data removed]",
      "text/plain": [
       "<Figure size 640x480 with 1 Axes>"
      ]
     },
     "metadata": {},
     "output_type": "display_data"
    }
   ],
   "source": [
    "d = 11\n",
    "norm = np.zeros(d-2)\n",
    "n = np.arange(2,d,1 )\n",
    "for i in range(2,d):\n",
    "    H = Hil(i)\n",
    "    norm[i-2] = np.linalg.norm(np.identity(i) - H * np.linalg.inv(H),2)\n",
    "    \n",
    "plt.semilogy(n, norm)\n",
    "plt.xlabel('n')\n",
    "plt.ylabel('Διαφορά 2-νόρμας')\n",
    "plt.show()"
   ]
  },
  {
   "cell_type": "markdown",
   "id": "ce30efed",
   "metadata": {},
   "source": [
    "Παρατηρούμε ότι όσο αυξάνεται το n, το σφάλμα για να υπολογιστεί ο μοναδιαίος πίνακας μέσω του γινομένου του Hilbert με τον αντίστροφο του, αυξάνεται εκθετικά. Για την διαδικασία αντιστροφής των πινάκων αυτό σημαίνει ότι δεν γίνεται σωστά και εισάγει κάποιο σφάλμα, το οποίο, όσο μεγαλύτερες είναι οι διαστάσεις του Hilbert τόσο μεγαλύτερο είναι το σφάλμα.  "
   ]
  },
  {
   "cell_type": "markdown",
   "id": "3b34c9f8",
   "metadata": {},
   "source": [
    "## Πρόβλημα προσέγγισης<br>\n",
    "Δημιουργία των διανυσμάτων t και y"
   ]
  },
  {
   "cell_type": "code",
   "execution_count": 8,
   "id": "6163300d",
   "metadata": {},
   "outputs": [],
   "source": [
    "t = np.linspace(0, 1, 50)\n",
    "y = np.cos(4 * t) + 0.1 * np.random.randn(t.shape[0])\n",
    "y.shape = (50,1)"
   ]
  },
  {
   "cell_type": "markdown",
   "id": "a5765794",
   "metadata": {},
   "source": [
    "Τρόπος 1 με παραγοντοποίηση LU"
   ]
  },
  {
   "cell_type": "code",
   "execution_count": 9,
   "id": "cc0626f6",
   "metadata": {
    "scrolled": false
   },
   "outputs": [
    {
     "name": "stdout",
     "output_type": "stream",
     "text": [
      "Το άθροισμα των τετραγωνικών σφαλμάτων για την μέθοδο LU είναι :\n",
      " 0.36443782872276687\n"
     ]
    }
   ],
   "source": [
    "C = np.matrix( [[1.0] * 5] * 50)\n",
    "for i in range(0,50):\n",
    "    for j in range(1,5):\n",
    "        C[i,j] = t[i] ** j\n",
    "x = solveLUmine( np.dot(C.T,C), np.dot(C.T,y))\n",
    "zLU = np.matrix(np.zeros((50,1)))\n",
    "sum1 = 0.0\n",
    "for i in range(0,50):\n",
    "    for j in range(0,5):\n",
    "        zLU[i,0] += x[j,0] * t[i]**j\n",
    "    sum1 += (zLU[i,0]-y[i,0])**2\n",
    "print(\"Το άθροισμα των τετραγωνικών σφαλμάτων \"+\n",
    "      \"για την μέθοδο LU είναι :\\n\",sum1)"
   ]
  },
  {
   "cell_type": "markdown",
   "id": "ba397f80",
   "metadata": {},
   "source": [
    "Τρόπος 2 με παραγοντοποίηση QR"
   ]
  },
  {
   "cell_type": "code",
   "execution_count": 10,
   "id": "5fd4fcef",
   "metadata": {},
   "outputs": [
    {
     "name": "stdout",
     "output_type": "stream",
     "text": [
      "Το άθροισμα των τετραγωνικών σφαλμάτων για την μέθοδο QR είναι :\n",
      " 0.36443782872283964\n",
      "\n",
      "Η διαφορά των δύο αθροισμάτων είναι :\n",
      " -7.277511926417901e-14\n"
     ]
    }
   ],
   "source": [
    "xnew = solveQRmine(np.dot(C.T,C),np.dot(C.T,y)) \n",
    "zQR = np.matrix(np.zeros((50,1)))\n",
    "sum2 = 0.0\n",
    "for i in range(0,50):\n",
    "    for j in range(0,5):\n",
    "        zQR[i,0] += xnew[j,0] * t[i]**j\n",
    "    sum2 += (zQR[i,0]-y[i,0])**2\n",
    "print(\"Το άθροισμα των τετραγωνικών σφαλμάτων \"+\n",
    "      \"για την μέθοδο QR είναι :\\n\",sum2)\n",
    "\n",
    "print(\"\\nΗ διαφορά των δύο αθροισμάτων είναι :\\n\",sum1-sum2)"
   ]
  },
  {
   "cell_type": "markdown",
   "id": "d32f1eea",
   "metadata": {},
   "source": [
    "Η διαφορά των δύο αθροισμάτων είναι αρνητική, άρα η παραγοντοποίηση LU έχει μικρότερο σφάλμα και μας δίνει μια καλύτερη προσέγγιση της καμπύλης από την παραγοντοποίση QR."
   ]
  },
  {
   "cell_type": "code",
   "execution_count": 11,
   "id": "1207aa7e",
   "metadata": {},
   "outputs": [
    {
     "data": {
      "image/png": "[encoded data removed]",
      "text/plain": [
       "<Figure size 640x480 with 1 Axes>"
      ]
     },
     "metadata": {},
     "output_type": "display_data"
    }
   ],
   "source": [
    "plt.plot(t,y,'g.')\n",
    "plt.plot(t,zLU,'r')\n",
    "plt.xlabel(\"t\")\n",
    "plt.ylabel(\"y\")\n",
    "plt.show()"
   ]
  },
  {
   "cell_type": "code",
   "execution_count": null,
   "id": "611804d4",
   "metadata": {},
   "outputs": [],
   "source": []
  }
 ],
 "metadata": {
  "kernelspec": {
   "display_name": "Python 3 (ipykernel)",
   "language": "python",
   "name": "python3"
  },
  "language_info": {
   "codemirror_mode": {
    "name": "ipython",
    "version": 3
   },
   "file_extension": ".py",
   "mimetype": "text/x-python",
   "name": "python",
   "nbconvert_exporter": "python",
   "pygments_lexer": "ipython3",
   "version": "3.10.9"
  }
 },
 "nbformat": 4,
 "nbformat_minor": 5
}
